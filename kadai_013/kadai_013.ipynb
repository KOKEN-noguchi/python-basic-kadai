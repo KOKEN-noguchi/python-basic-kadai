{
  "nbformat": 4,
  "nbformat_minor": 0,
  "metadata": {
    "colab": {
      "provenance": []
    },
    "kernelspec": {
      "name": "python3",
      "display_name": "Python 3"
    },
    "language_info": {
      "name": "python"
    }
  },
  "cells": [
    {
      "cell_type": "code",
      "source": [
        "# 引数は（税抜金額、消費税率）\n",
        "def calculate_total(price,tax):\n",
        "  #税込金額を計算\n",
        "  total =  price * (1 + tax/100)\n",
        "  #計算結果を返す\n",
        "  return total\n",
        "\n",
        "print(calculate_total(1000,10))"
      ],
      "metadata": {
        "id": "w43B1yx-CwKF",
        "colab": {
          "base_uri": "https://localhost:8080/"
        },
        "outputId": "dad39abf-daa2-4752-c68e-64d5e96c2e16"
      },
      "execution_count": 5,
      "outputs": [
        {
          "output_type": "stream",
          "name": "stdout",
          "text": [
            "1100.0\n"
          ]
        }
      ]
    }
  ]
}