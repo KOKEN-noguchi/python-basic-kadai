{
  "nbformat": 4,
  "nbformat_minor": 0,
  "metadata": {
    "colab": {
      "provenance": []
    },
    "kernelspec": {
      "name": "python3",
      "display_name": "Python 3"
    },
    "language_info": {
      "name": "python"
    }
  },
  "cells": [
    {
      "cell_type": "code",
      "execution_count": null,
      "metadata": {
        "colab": {
          "base_uri": "https://localhost:8080/"
        },
        "id": "eeRObD9BG-64",
        "outputId": "c6af87fe-7693-4e4f-eefb-91d8fcd320f9"
      },
      "outputs": [
        {
          "output_type": "stream",
          "name": "stdout",
          "text": [
            "Fizz\n"
          ]
        }
      ],
      "source": [
        "import random\n",
        "\n",
        "ver = random.randint(1, 100) # 1～99までの数値をランダムで挿入\n",
        "\n",
        "if ver % 3 == 0 and ver % 5 == 0: # 変数varが、3の倍数と5の倍数の両方に該当する場合は「FizzBuzz」を出力\n",
        "    print(\"FizzBuzz\")\n",
        "elif ver % 3 == 0: # 変数varが、3の倍数の場合は「Fizz」を出力\n",
        "    print(\"Fizz\")\n",
        "elif ver % 5 == 0: # 変数varが、5の倍数の場合は「Buzz」を出力\n",
        "    print(\"Buzz\")\n",
        "else: # 上記のどの場合にも該当しない場合は、変数varの値を出力\n",
        "    print(ver)"
      ]
    }
  ]
}