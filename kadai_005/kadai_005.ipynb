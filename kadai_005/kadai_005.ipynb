{
  "nbformat": 4,
  "nbformat_minor": 0,
  "metadata": {
    "colab": {
      "provenance": [],
      "gpuType": "T4"
    },
    "kernelspec": {
      "name": "python3",
      "display_name": "Python 3"
    },
    "language_info": {
      "name": "python"
    },
    "accelerator": "GPU"
  },
  "cells": [
    {
      "cell_type": "code",
      "execution_count": null,
      "metadata": {
        "colab": {
          "base_uri": "https://localhost:8080/"
        },
        "id": "ojGktU9gib_D",
        "outputId": "2b7c6c36-5624-4f0f-d31e-e67214a324c9"
      },
      "outputs": [
        {
          "output_type": "stream",
          "name": "stdout",
          "text": [
            "75.0cm2\n"
          ]
        }
      ],
      "source": [
        "upper_line = 10 #上辺\n",
        "\n",
        "under_line = 20 #底辺\n",
        "\n",
        "height = 5 #高さ\n",
        "\n",
        "area = (upper_line + under_line) * height / 2 # 台形の面積を求める公式\n",
        "\n",
        "print(str(area) + \"cm2\")　# 数値を文字化し、単位と結合させる"
      ]
    },
    {
      "cell_type": "code",
      "source": [],
      "metadata": {
        "id": "0dF31w6Wi-v1"
      },
      "execution_count": null,
      "outputs": []
    }
  ]
}