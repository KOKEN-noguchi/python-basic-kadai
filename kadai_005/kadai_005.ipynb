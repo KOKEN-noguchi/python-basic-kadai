{
  "nbformat": 4,
  "nbformat_minor": 0,
  "metadata": {
    "colab": {
      "provenance": [],
      "gpuType": "T4"
    },
    "kernelspec": {
      "name": "python3",
      "display_name": "Python 3"
    },
    "language_info": {
      "name": "python"
    },
    "accelerator": "GPU"
  },
  "cells": [
    {
      "cell_type": "code",
      "execution_count": 3,
      "metadata": {
        "colab": {
          "base_uri": "https://localhost:8080/"
        },
        "id": "ojGktU9gib_D",
        "outputId": "6ed5e205-d660-475f-d333-817aaaef696d"
      },
      "outputs": [
        {
          "output_type": "stream",
          "name": "stdout",
          "text": [
            "75.0cm²\n"
          ]
        }
      ],
      "source": [
        "upper_line = 10 #上辺\n",
        "\n",
        "under_line = 20 #底辺\n",
        "\n",
        "height = 5 #高さ\n",
        "\n",
        "area = (upper_line + under_line) * height / 2 # 台形の面積を求める公式\n",
        "\n",
        "print(str(area) + \"cm²\") # 数値を文字化し、単位と結合させる"
      ]
    },
    {
      "cell_type": "code",
      "source": [],
      "metadata": {
        "id": "0dF31w6Wi-v1"
      },
      "execution_count": null,
      "outputs": []
    }
  ]
}