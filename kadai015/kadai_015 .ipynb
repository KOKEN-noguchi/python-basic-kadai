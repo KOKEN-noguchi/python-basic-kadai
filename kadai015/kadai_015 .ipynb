{
  "nbformat": 4,
  "nbformat_minor": 0,
  "metadata": {
    "colab": {
      "provenance": []
    },
    "kernelspec": {
      "name": "python3",
      "display_name": "Python 3"
    },
    "language_info": {
      "name": "python"
    }
  },
  "cells": [
    {
      "cell_type": "code",
      "execution_count": 4,
      "metadata": {
        "id": "3cnAoJIuN0Rl",
        "colab": {
          "base_uri": "https://localhost:8080/"
        },
        "outputId": "812d71e1-ccb9-4bfb-b036-9f794542a00f"
      },
      "outputs": [
        {
          "output_type": "stream",
          "name": "stdout",
          "text": [
            "name:noguchi\n",
            "age:25\n"
          ]
        }
      ],
      "source": [
        "class Human:\n",
        "    def __init__(self, name, age):\n",
        "        self.name = name\n",
        "        self.age = age\n",
        "\n",
        "    def _printinfo(self):\n",
        "        print(\"name:\" + self.name)\n",
        "        print(\"age:\" + str(self.age))\n",
        "\n",
        "human = Human(\"noguchi\", 25)\n",
        "\n",
        "human._printinfo()"
      ]
    }
  ]
}