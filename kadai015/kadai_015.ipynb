{
  "nbformat": 4,
  "nbformat_minor": 0,
  "metadata": {
    "colab": {
      "provenance": []
    },
    "kernelspec": {
      "name": "python3",
      "display_name": "Python 3"
    },
    "language_info": {
      "name": "python"
    }
  },
  "cells": [
    {
      "cell_type": "code",
      "execution_count": 1,
      "metadata": {
        "id": "3cnAoJIuN0Rl",
        "colab": {
          "base_uri": "https://localhost:8080/"
        },
        "outputId": "0f1b9701-4be2-4106-f1ba-8d938ab0cf13"
      },
      "outputs": [
        {
          "output_type": "stream",
          "name": "stdout",
          "text": [
            "noguchi\n",
            "25\n"
          ]
        }
      ],
      "source": [
        "class Human:\n",
        "    def __init__(self, name, age):\n",
        "        self.name = name\n",
        "        self.age = age\n",
        "\n",
        "human = Human(\"noguchi\", 25)\n",
        "print(human.name)\n",
        "print(human.age)"
      ]
    }
  ]
}