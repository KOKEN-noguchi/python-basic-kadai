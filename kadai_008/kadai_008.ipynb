{
  "nbformat": 4,
  "nbformat_minor": 0,
  "metadata": {
    "colab": {
      "provenance": []
    },
    "kernelspec": {
      "name": "python3",
      "display_name": "Python 3"
    },
    "language_info": {
      "name": "python"
    }
  },
  "cells": [
    {
      "cell_type": "code",
      "execution_count": 13,
      "metadata": {
        "colab": {
          "base_uri": "https://localhost:8080/"
        },
        "id": "eeRObD9BG-64",
        "outputId": "ab2b8f96-c9ca-4d6d-d63d-80085877c003"
      },
      "outputs": [
        {
          "output_type": "stream",
          "name": "stdout",
          "text": [
            "Fizz\n"
          ]
        }
      ],
      "source": [
        "import random\n",
        "\n",
        "var = random.randint(1, 100) # 1～99までの数値をランダムで挿入\n",
        "\n",
        "if var % 3 == 0 and var % 5 == 0: # 変数varが、3の倍数と5の倍数の両方に該当する場合は「FizzBuzz」を出力\n",
        "    print(\"FizzBuzz\")\n",
        "elif var % 3 == 0: # 変数varが、3の倍数の場合は「Fizz」を出力\n",
        "    print(\"Fizz\")\n",
        "elif var % 5 == 0: # 変数varが、5の倍数の場合は「Buzz」を出力\n",
        "    print(\"Buzz\")\n",
        "else: # 上記のどの場合にも該当しない場合は、変数varの値を出力\n",
        "    print(var)"
      ]
    }
  ]
}